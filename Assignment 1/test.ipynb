{
 "cells": [
  {
   "cell_type": "code",
   "execution_count": 17,
   "metadata": {},
   "outputs": [
    {
     "data": {
      "image/png": "[encoded data removed]",
      "text/plain": [
       "<Figure size 640x480 with 1 Axes>"
      ]
     },
     "metadata": {},
     "output_type": "display_data"
    }
   ],
   "source": [
    "import numpy as np\n",
    "import  matplotlib.pyplot  as plt\n",
    "import cv2 as cv\n",
    "\n",
    "transform = np.arange(255,-1,-1).astype('uint8')\n",
    "fig ,ax = plt.subplots()\n",
    "ax.plot(transform)\n",
    "ax.set_xlabel(r'Input, $f(\\mathbf{x})$')\n",
    "ax.set_ylabel('Output, $\\mathrm{T}[f(\\mathbf{x})]$')\n",
    "\n",
    "\n",
    "ax.set_xlim(0,255)\n",
    "ax.set_ylim(0,255)\n",
    "\n",
    "ax.set_aspect('equal')\n",
    "\n",
    "\n",
    "\n"
   ]
  },
  {
   "cell_type": "code",
   "execution_count": 18,
   "metadata": {},
   "outputs": [
    {
     "data": {
      "text/plain": [
       "13"
      ]
     },
     "execution_count": 18,
     "metadata": {},
     "output_type": "execute_result"
    }
   ],
   "source": [
    "img_orig = cv.imread('spider.png',cv.IMREAD_GRAYSCALE)\n",
    "img_orig.shape\n",
    "cv.namedWindow(\"spider\",cv.WINDOW_AUTOSIZE)\n",
    "cv.imshow('spider',img_orig)\n",
    "cv.waitKey(0)\n",
    "\n"
   ]
  },
  {
   "cell_type": "code",
   "execution_count": 19,
   "metadata": {},
   "outputs": [],
   "source": [
    "img_transformed = cv.LUT(img_orig,transform)\n",
    "cv.imshow('img_transformed', img_transformed)\n",
    "cv.waitKey(0)\n",
    "cv.destroyAllWindows()"
   ]
  },
  {
   "cell_type": "code",
   "execution_count": 8,
   "metadata": {},
   "outputs": [
    {
     "data": {
      "text/plain": [
       "array([[194, 192, 193, ..., 115, 111, 109],\n",
       "       [197, 197, 197, ..., 102,  99,  98],\n",
       "       [197, 197, 197, ...,  82,  80,  78],\n",
       "       ...,\n",
       "       [ 66,  66,  66, ...,  50,  50,  50],\n",
       "       [ 61,  61,  61, ...,  46,  46,  46],\n",
       "       [ 59,  56,  56, ...,  43,  43,  43]], dtype=uint8)"
      ]
     },
     "execution_count": 8,
     "metadata": {},
     "output_type": "execute_result"
    }
   ],
   "source": [
    "img_orig"
   ]
  },
  {
   "cell_type": "code",
   "execution_count": 32,
   "metadata": {},
   "outputs": [
    {
     "data": {
      "text/plain": [
       "array([100.  , 103.1 , 106.2 , 109.3 , 112.4 , 115.5 , 118.6 , 121.7 ,\n",
       "       124.8 , 127.9 , 131.  , 134.1 , 137.2 , 140.3 , 143.4 , 146.5 ,\n",
       "       149.6 , 152.7 , 155.8 , 158.9 , 162.  , 165.1 , 168.2 , 171.3 ,\n",
       "       174.4 , 177.5 , 180.6 , 183.7 , 186.8 , 189.9 , 193.  , 196.1 ,\n",
       "       199.2 , 202.3 , 205.4 , 208.5 , 211.6 , 214.7 , 217.8 , 220.9 ,\n",
       "       224.  , 227.1 , 230.2 , 233.3 , 236.4 , 239.5 , 242.6 , 245.7 ,\n",
       "       248.8 , 253.45])"
      ]
     },
     "execution_count": 32,
     "metadata": {},
     "output_type": "execute_result"
    }
   ],
   "source": [
    "x_1 = np.linspace(0,49).astype('uint8')\n",
    "x_2 = np.linspace(50,149).astype('uint8')\n",
    "x_3 = np.linspace(150,255).astype('uint8')\n",
    "\n",
    "\n",
    "y_1  = x_1;  y_2 = (155/100)*x_2 +22.5\n",
    "\n",
    "y_2"
   ]
  },
  {
   "cell_type": "code",
   "execution_count": null,
   "metadata": {},
   "outputs": [],
   "source": []
  }
 ],
 "metadata": {
  "kernelspec": {
   "display_name": "Python 3",
   "language": "python",
   "name": "python3"
  },
  "language_info": {
   "codemirror_mode": {
    "name": "ipython",
    "version": 3
   },
   "file_extension": ".py",
   "mimetype": "text/x-python",
   "name": "python",
   "nbconvert_exporter": "python",
   "pygments_lexer": "ipython3",
   "version": "3.11.4"
  },
  "orig_nbformat": 4
 },
 "nbformat": 4,
 "nbformat_minor": 2
}
