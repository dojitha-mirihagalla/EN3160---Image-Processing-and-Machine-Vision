{
 "cells": [
  {
   "cell_type": "code",
   "execution_count": 13,
   "metadata": {},
   "outputs": [],
   "source": [
    "import cv2 as cv\n",
    "import numpy as np\n",
    "\n",
    "# Load the image\n",
    "img = cv.imread(\"the_berry_farms_sunflower_field.jpeg\", cv.IMREAD_GRAYSCALE)\n",
    "\n",
    "if img is not None:\n",
    "    # Initialize the SimpleBlobDetector parameters\n",
    "    params = cv.SimpleBlobDetector_Params()\n",
    "\n",
    "    # Change the thresholds if needed\n",
    "    params.minThreshold = 10\n",
    "    params.maxThreshold = 100\n",
    "\n",
    "    # Filter by Area\n",
    "    params.filterByArea = True\n",
    "    params.minArea = 100  # Minimum blob area in pixels\n",
    "\n",
    "    # Filter by Circularity\n",
    "    params.filterByCircularity = True\n",
    "    params.minCircularity = 0.7\n",
    "\n",
    "    # Filter by Convexity\n",
    "    params.filterByConvexity = True\n",
    "    params.minConvexity = 0.8\n",
    "\n",
    "    # Filter by Inertia\n",
    "    params.filterByInertia = True\n",
    "    params.minInertiaRatio = 0.1\n",
    "\n",
    "    # Create a SimpleBlobDetector with the parameters\n",
    "    detector = cv.SimpleBlobDetector_create(params)\n",
    "\n",
    "    # Detect blobs\n",
    "    keypoints = detector.detect(img)\n",
    "\n",
    "    # Draw detected blobs on the image\n",
    "    img_with_keypoints = cv.drawKeypoints(img, keypoints, np.array([]), (0, 0, 255),\n",
    "                                         cv.DRAW_MATCHES_FLAGS_DRAW_RICH_KEYPOINTS)\n",
    "\n",
    "    # Show the image with detected blobs\n",
    "    img_with_keypoints=cv.resize(img_with_keypoints,None,fx=0.4,fy=0.4)\n",
    "    cv.imshow(\"Blobs\", img_with_keypoints)\n",
    "    cv.waitKey(0)\n",
    "    cv.destroyAllWindows()\n",
    "else:\n",
    "    print(\"Image not found or could not be loaded.\")\n"
   ]
  },
  {
   "cell_type": "code",
   "execution_count": null,
   "metadata": {},
   "outputs": [],
   "source": []
  }
 ],
 "metadata": {
  "kernelspec": {
   "display_name": "Python 3",
   "language": "python",
   "name": "python3"
  },
  "language_info": {
   "codemirror_mode": {
    "name": "ipython",
    "version": 3
   },
   "file_extension": ".py",
   "mimetype": "text/x-python",
   "name": "python",
   "nbconvert_exporter": "python",
   "pygments_lexer": "ipython3",
   "version": "3.11.4"
  },
  "orig_nbformat": 4
 },
 "nbformat": 4,
 "nbformat_minor": 2
}
