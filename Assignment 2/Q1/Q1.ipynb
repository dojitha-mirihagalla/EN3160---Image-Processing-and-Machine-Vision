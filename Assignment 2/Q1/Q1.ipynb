{
 "cells": [
  {
   "cell_type": "code",
   "execution_count": null,
   "metadata": {},
   "outputs": [],
   "source": [
    "import cv2 as cv\n",
    "import numpy as np\n",
    "import matplotlib.pyplot as plt\n",
    "\n",
    "#Load the image\n",
    "image = cv.imread(\"the_berry_farms_sunflower_field.jpeg\")\n",
    "# try to see why we need to reduse the intensity\n",
    "\n",
    "gray = cv.cvtColor(image, cv.COLOR_BGR2GRAY)\n",
    "\n",
    "# Define Laplacian parameters\n",
    "sigma = 3\n",
    "half_width = 3 * sigma\n",
    "X,Y = np.meshgrid(np.arange(-half_width, half_width+1), np.arange(-half_width, half_width+1))\n",
    "\n",
    "# Create the Laplacian filter\n",
    "Laplacian_filter = 1/(2*np.pi*sigma**2) * (X**2 + Y**2 - 2*sigma**2) * np.exp(-(X**2 + Y**2)/(2*sigma**2))\n",
    "\n",
    " "
   ]
  }
 ],
 "metadata": {
  "kernelspec": {
   "display_name": "Python 3",
   "language": "python",
   "name": "python3"
  },
  "language_info": {
   "codemirror_mode": {
    "name": "ipython",
    "version": 3
   },
   "file_extension": ".py",
   "mimetype": "text/x-python",
   "name": "python",
   "nbconvert_exporter": "python",
   "pygments_lexer": "ipython3",
   "version": "3.11.4"
  },
  "orig_nbformat": 4
 },
 "nbformat": 4,
 "nbformat_minor": 2
}
